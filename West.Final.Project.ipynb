{
 "cells": [
  {
   "cell_type": "markdown",
   "metadata": {},
   "source": [
    "<h1 align=\"center\">\n",
    "The Detroit Difference\n",
    "</h1>"
   ]
  },
  {
   "cell_type": "markdown",
   "metadata": {},
   "source": [
    "![alt text](http://cdn4.hotelopia.com/destinations/d/DTW.jpg \"Detroit, Michigan\")"
   ]
  },
  {
   "cell_type": "markdown",
   "metadata": {},
   "source": [
    "<h2 align=\"center\">\n",
    "Presented to the NYU Stern School of Business\n",
    "</h2>\n",
    "\n",
    "<h3 align=\"center\">\n",
    "Maggie West \n",
    "</h3>\n",
    "<h3 align=\"center\">\n",
    "Email: mmw480@nyu.edu\n",
    "</h3>\n",
    "***"
   ]
  },
  {
   "cell_type": "markdown",
   "metadata": {},
   "source": [
    "<h3 align='left'>\n",
    "Abstract\n",
    "</h3>"
   ]
  },
  {
   "cell_type": "markdown",
   "metadata": {},
   "source": [
    "**Background:** \n",
    "Detroit, Michigan has a long history of technological and industrial entrepreneurship, from being the birthplace of the assembly line to being a hub for the tech start-up and venture capital scene. While [deindustrialization](https://scholarworks.gvsu.edu/cgi/viewcontent.cgi?article=1184&context=mcnair), [depopulation](http://www.detroitnews.com/story/news/local/detroit-city/2016/05/19/detroit-population-rank-lowest-since/84574198/), and a series of [financial crises](https://www.michigan.gov/documents/detroitcantwait/DetroitFactSheet_412909_7.pdf) have plagued Detroit and damaged its reputation for potential investors starting in the 1970’s, [large-scale projects](http://downtowndetroit.org/do-business/development-projects/) set to build new commercial facilities and hospitality infrastructure, revitalize neighborhoods, and improve recreational and public facilities have created new hope for the city to return to its former glory.\n",
    " \n",
    "\n",
    "**Objective:**\n",
    "This project aims to analyze the current state of competitiveness of Detroit's economy based on factors such as cost of living, demographics of residents and productivity (GDP). To get a sense of how competitive Detroit's economy is based on these elements, this project will compare the same economic considerations with a similarly populated city, Portland, Oregon. \n",
    "\n",
    "**Considerations:**\n",
    "The three factors (cost of living, demographics of residents and productivity) this project employs to assess the economic advantage of Detroit are based on [the considerations](https://hbr.org/2017/09/what-amazons-hq2-wish-list-signals-about-the-future-of-cities%20) the Amazon Corperation is utilizing in its valuation of major metropolitan areas that would be suited to host its second headquarters in the United States. While these are not the only factors that Amazon takes into account in this analysis, they are the three factors that are most universal across industries that can also be represented by the reliable datasets discovered for this project. \n"
   ]
  },
  {
   "cell_type": "markdown",
   "metadata": {},
   "source": [
    "***"
   ]
  },
  {
   "cell_type": "markdown",
   "metadata": {},
   "source": [
    "<h3 align='left'>\n",
    "Preliminaries\n",
    "</h3>"
   ]
  },
  {
   "cell_type": "markdown",
   "metadata": {},
   "source": [
    "In order to import and represent the data for this project, the following packages should be imported. "
   ]
  },
  {
   "cell_type": "code",
   "execution_count": 135,
   "metadata": {},
   "outputs": [
    {
     "name": "stdout",
     "output_type": "stream",
     "text": [
      "Python version: 3.6.1 |Anaconda 4.4.0 (x86_64)| (default, May 11 2017, 13:04:09) \n",
      "[GCC 4.2.1 Compatible Apple LLVM 6.0 (clang-600.0.57)]\n",
      "Pandas version:  0.21.0\n",
      "Today:  2017-12-21\n"
     ]
    }
   ],
   "source": [
    "# Import packages \n",
    "\n",
    "\n",
    "import sys                             # system module \n",
    "import pandas as pd                    # data package\n",
    "import matplotlib.pyplot as plt        # graphics module  \n",
    "import datetime as dt                  # date and time module\n",
    "import numpy as np                     # foundation for Pandas \n",
    "import statsmodels.formula.api as smf  #stat module for regression\n",
    "\n",
    "import os                       # operating system tools (check files)\n",
    "import requests, io             # internet and input tools  \n",
    "import zipfile as zf            # zip file tools \n",
    "import shutil                   # file management tools \n",
    "\n",
    "%matplotlib inline                     \n",
    "\n",
    "# check versions\n",
    "print('Python version:', sys.version)\n",
    "print('Pandas version: ', pd.__version__)\n",
    "print('Today: ', dt.date.today())"
   ]
  },
  {
   "cell_type": "markdown",
   "metadata": {},
   "source": [
    "<h3 align='left'>\n",
    "Data Sources\n",
    "</h3>\n",
    "\n",
    "There are two datasets I will be relying on for this project:\n",
    "\n",
    "I. 2017 demographic and economic datasets of both [Detroit](https://www.census.gov/quickfacts/fact/table/detroitcitymichigan/PST045216) and [Portland](https://www.census.gov/quickfacts/fact/table/portlandcityoregon/PST045216) by the US Census Bureau.\n",
    "\n",
    "II. GDP datasets of Detroit and Portland are by U.S. Bureau of Labor Statistics, condensed by the [Statista Organization](https://www.statista.com/statistics/183873/gdp-of-the-detroit-metro-area/).\n",
    "\n",
    "**Directory Consideration: **  The best way to access this data is to download the datasets (linked above and available in this github repository). In my \"url\" directories, I direct Pandas to access the datasets from my Jupyter files; in order to execute my code below, it is best to edit the path to where you've stored the data on your device.  "
   ]
  },
  {
   "cell_type": "markdown",
   "metadata": {},
   "source": [
    "***"
   ]
  },
  {
   "cell_type": "markdown",
   "metadata": {},
   "source": [
    "<h3 align='left'>\n",
    "I. Detroit Demographics\n",
    "</h3>"
   ]
  },
  {
   "cell_type": "markdown",
   "metadata": {},
   "source": [
    "The key features of the demographic data of Detroit, Michigan used in this project are a) population and b) percentage of population with Bachelor's Degree or higher."
   ]
  },
  {
   "cell_type": "markdown",
   "metadata": {},
   "source": [
    "**First, Import Census Data on the City of Detroit, Michigan**"
   ]
  },
  {
   "cell_type": "code",
   "execution_count": 130,
   "metadata": {},
   "outputs": [],
   "source": [
    "# don't forget to change url path to that of your device. Ex: url=(\"/Users/name/folder/detroit_census.csv\") \n",
    "url=(\"/Users/maggiewest/Projects/detroit_census.csv\")\n",
    "detroit_census = pd.read_csv(url)"
   ]
  },
  {
   "cell_type": "code",
   "execution_count": 131,
   "metadata": {},
   "outputs": [],
   "source": [
    "# Clean up the dataset for viewing purposes\n",
    "detroit_census2=detroit_census.drop(\"Fact Note\", axis=1)\n",
    "detroit_census2=detroit_census2.drop(\"Value Note for Detroit city, Michigan\", axis=1)"
   ]
  },
  {
   "cell_type": "markdown",
   "metadata": {},
   "source": [
    "**Population of Detroit**\n",
    "\n",
    "The estimated population of Detroit in 2016 is 672,795 persons."
   ]
  },
  {
   "cell_type": "code",
   "execution_count": 134,
   "metadata": {},
   "outputs": [
    {
     "data": {
      "text/html": [
       "<div>\n",
       "<style scoped>\n",
       "    .dataframe tbody tr th:only-of-type {\n",
       "        vertical-align: middle;\n",
       "    }\n",
       "\n",
       "    .dataframe tbody tr th {\n",
       "        vertical-align: top;\n",
       "    }\n",
       "\n",
       "    .dataframe thead th {\n",
       "        text-align: right;\n",
       "    }\n",
       "</style>\n",
       "<table border=\"1\" class=\"dataframe\">\n",
       "  <thead>\n",
       "    <tr style=\"text-align: right;\">\n",
       "      <th></th>\n",
       "      <th>Fact</th>\n",
       "      <th>Detroit city, Michigan</th>\n",
       "    </tr>\n",
       "  </thead>\n",
       "  <tbody>\n",
       "    <tr>\n",
       "      <th>0</th>\n",
       "      <td>Population estimates, July 1, 2016,  (V2016)</td>\n",
       "      <td>672,795</td>\n",
       "    </tr>\n",
       "  </tbody>\n",
       "</table>\n",
       "</div>"
      ],
      "text/plain": [
       "                                           Fact Detroit city, Michigan\n",
       "0  Population estimates, July 1, 2016,  (V2016)                672,795"
      ]
     },
     "execution_count": 134,
     "metadata": {},
     "output_type": "execute_result"
    }
   ],
   "source": [
    "detroit_census2.head(1)"
   ]
  },
  {
   "cell_type": "markdown",
   "metadata": {},
   "source": [
    "**Education level of Detroit**\n",
    "\n",
    "13.5% of Detroit's population (approximately 90,827 Detroit residents) have earned a Bachelor's Degree or higher degree of education.  "
   ]
  },
  {
   "cell_type": "code",
   "execution_count": 110,
   "metadata": {},
   "outputs": [
    {
     "data": {
      "text/html": [
       "<div>\n",
       "<style scoped>\n",
       "    .dataframe tbody tr th:only-of-type {\n",
       "        vertical-align: middle;\n",
       "    }\n",
       "\n",
       "    .dataframe tbody tr th {\n",
       "        vertical-align: top;\n",
       "    }\n",
       "\n",
       "    .dataframe thead th {\n",
       "        text-align: right;\n",
       "    }\n",
       "</style>\n",
       "<table border=\"1\" class=\"dataframe\">\n",
       "  <thead>\n",
       "    <tr style=\"text-align: right;\">\n",
       "      <th></th>\n",
       "      <th>Fact</th>\n",
       "      <th>Detroit city, Michigan</th>\n",
       "    </tr>\n",
       "  </thead>\n",
       "  <tbody>\n",
       "    <tr>\n",
       "      <th>34</th>\n",
       "      <td>High school graduate or higher, percent of per...</td>\n",
       "      <td>78.3%</td>\n",
       "    </tr>\n",
       "    <tr>\n",
       "      <th>35</th>\n",
       "      <td>Bachelor's degree or higher, percent of person...</td>\n",
       "      <td>13.5%</td>\n",
       "    </tr>\n",
       "  </tbody>\n",
       "</table>\n",
       "</div>"
      ],
      "text/plain": [
       "                                                 Fact Detroit city, Michigan\n",
       "34  High school graduate or higher, percent of per...                  78.3%\n",
       "35  Bachelor's degree or higher, percent of person...                  13.5%"
      ]
     },
     "execution_count": 110,
     "metadata": {},
     "output_type": "execute_result"
    }
   ],
   "source": [
    "d_education=detroit_census2.drop(detroit_census2.index[36:])\n",
    "d_education=d_education.drop(d_education.index[:34])\n",
    "d_education.head()"
   ]
  },
  {
   "cell_type": "markdown",
   "metadata": {},
   "source": [
    "<h3 align='left'>\n",
    "II. Detroit's Productivity\n",
    "</h3>"
   ]
  },
  {
   "cell_type": "markdown",
   "metadata": {},
   "source": [
    "In 2013, the city of Detroit filed for Chapter 9 bankruptcy. This remains the largest municipal bankruptcy filing in U.S. history by debt, estimated at $18–20 billion. The dataset used in this section was created by the [Federal Bureau of Economic Analysis](https://www.bea.gov/itable/iTable.cfm?ReqID=70&step=1#reqid=70&step=10&isuri=1&7003=200&7035=-1&7004=naics&7005=-1&7006=19820&7036=-1&7001=2200&7002=2&7090=70&7007=2016,2015,2014,2013,2012,2011,2010&7093=levels) and can be found in their interactive datasets database by searching for \"Gross domestic product (GDP) by metropolitan area\" and then selecting the results for Detroit, Michigan.\n",
    "\n",
    "The Federal Bureau of Economic Analysis' calculation of GDP is equivalent to the total value of the goods and services produced by the metropolitan area less the value of the goods and services used up in production. By selecting data from 2001 to 2016, the data below demonstrates how Detroit's productivity has changed between these years. It's interested to note the dip in 2009 from the economic recession and the slight reduction in positive productivity growth during 2013. "
   ]
  },
  {
   "cell_type": "code",
   "execution_count": 136,
   "metadata": {
    "collapsed": true
   },
   "outputs": [],
   "source": [
    "url=(\"/Users/maggiewest/Projects/detroit_gdp.csv\")\n",
    "gdp_df = pd.read_csv(url)"
   ]
  },
  {
   "cell_type": "code",
   "execution_count": 137,
   "metadata": {
    "collapsed": true
   },
   "outputs": [],
   "source": [
    "gdp_df=gdp_df.rename(index=str, columns={\"TIME_PERIOD\": \"Year\", \"All industry total [Detroit-Warren-Dearborn MI (Metropolitan Statistical Area)]\": \"Detroit GDP\"})"
   ]
  },
  {
   "cell_type": "code",
   "execution_count": 153,
   "metadata": {},
   "outputs": [
    {
     "data": {
      "image/png": "[encoded data removed]",
      "text/plain": [
       "<matplotlib.figure.Figure at 0x1142dafd0>"
      ]
     },
     "metadata": {},
     "output_type": "display_data"
    }
   ],
   "source": [
    "ax=gdp_df.plot(x='Year', y=\"Detroit GDP\", title='Detroit GDP Recovery 2001-2016 \\n', color='green')\n",
    "ax.set_xlabel(\"Year\")\n",
    "ax.set_ylabel(\"Detroit GDP (in Millions USD)\")\n",
    "ax.spines[\"right\"].set_visible(False)\n",
    "ax.spines[\"top\"].set_visible(False)"
   ]
  },
  {
   "cell_type": "markdown",
   "metadata": {},
   "source": [
    "In 2016, the [Federal Bureau of Economic Analysis](https://bea.gov/newsreleases/regional/gdp_metro/2017/pdf/gdp_metro0917.pdf) reported the Greater Detroit metropolitan's GDP at $252.7 billion, making it the 13th largest economy among 382 metropolitan areas in the United States. \n"
   ]
  },
  {
   "cell_type": "markdown",
   "metadata": {},
   "source": [
    "<h3 align='left'>\n",
    "III. Cost of Living in Detroit\n",
    "</h3>"
   ]
  },
  {
   "cell_type": "markdown",
   "metadata": {},
   "source": [
    "Determining the cost-of-living for any city requires the consideration of housing affordability, transportation expenses, food prices, etc. The median housing costs, median salary, median travel time  and percentage of population in poverty in Detroit below is retrieved from the US Census Bureau."
   ]
  },
  {
   "cell_type": "code",
   "execution_count": 171,
   "metadata": {},
   "outputs": [],
   "source": [
    "url=(\"/Users/maggiewest/Projects/cpi3.xlsx\")\n",
    "cpi = pd.read_excel(url)"
   ]
  },
  {
   "cell_type": "code",
   "execution_count": 200,
   "metadata": {},
   "outputs": [
    {
     "data": {
      "text/html": [
       "<div>\n",
       "<style scoped>\n",
       "    .dataframe tbody tr th:only-of-type {\n",
       "        vertical-align: middle;\n",
       "    }\n",
       "\n",
       "    .dataframe tbody tr th {\n",
       "        vertical-align: top;\n",
       "    }\n",
       "\n",
       "    .dataframe thead th {\n",
       "        text-align: right;\n",
       "    }\n",
       "</style>\n",
       "<table border=\"1\" class=\"dataframe\">\n",
       "  <thead>\n",
       "    <tr style=\"text-align: right;\">\n",
       "      <th></th>\n",
       "      <th>Fact</th>\n",
       "      <th>Detroit city, Michigan</th>\n",
       "    </tr>\n",
       "  </thead>\n",
       "  <tbody>\n",
       "    <tr>\n",
       "      <th>24</th>\n",
       "      <td>Owner-occupied housing unit rate, 2011-2015</td>\n",
       "      <td>49.4%</td>\n",
       "    </tr>\n",
       "    <tr>\n",
       "      <th>25</th>\n",
       "      <td>Median value of owner-occupied housing units, ...</td>\n",
       "      <td>$42,300</td>\n",
       "    </tr>\n",
       "    <tr>\n",
       "      <th>26</th>\n",
       "      <td>Median selected monthly owner costs -with a mo...</td>\n",
       "      <td>$1,080</td>\n",
       "    </tr>\n",
       "    <tr>\n",
       "      <th>27</th>\n",
       "      <td>Median selected monthly owner costs -without a...</td>\n",
       "      <td>$439</td>\n",
       "    </tr>\n",
       "    <tr>\n",
       "      <th>28</th>\n",
       "      <td>Median gross rent, 2011-2015</td>\n",
       "      <td>$747</td>\n",
       "    </tr>\n",
       "  </tbody>\n",
       "</table>\n",
       "</div>"
      ],
      "text/plain": [
       "                                                 Fact Detroit city, Michigan\n",
       "24        Owner-occupied housing unit rate, 2011-2015                  49.4%\n",
       "25  Median value of owner-occupied housing units, ...                $42,300\n",
       "26  Median selected monthly owner costs -with a mo...                 $1,080\n",
       "27  Median selected monthly owner costs -without a...                   $439\n",
       "28                       Median gross rent, 2011-2015                   $747"
      ]
     },
     "execution_count": 200,
     "metadata": {},
     "output_type": "execute_result"
    }
   ],
   "source": [
    "#housing prices\n",
    "d_housing=detroit_census2.drop(detroit_census2.index[:24])\n",
    "d_housing=d_housing.drop(d_housing.index[5:])\n",
    "d_housing"
   ]
  },
  {
   "cell_type": "code",
   "execution_count": 188,
   "metadata": {},
   "outputs": [
    {
     "data": {
      "text/html": [
       "<div>\n",
       "<style scoped>\n",
       "    .dataframe tbody tr th:only-of-type {\n",
       "        vertical-align: middle;\n",
       "    }\n",
       "\n",
       "    .dataframe tbody tr th {\n",
       "        vertical-align: top;\n",
       "    }\n",
       "\n",
       "    .dataframe thead th {\n",
       "        text-align: right;\n",
       "    }\n",
       "</style>\n",
       "<table border=\"1\" class=\"dataframe\">\n",
       "  <thead>\n",
       "    <tr style=\"text-align: right;\">\n",
       "      <th></th>\n",
       "      <th>Fact</th>\n",
       "      <th>Detroit city, Michigan</th>\n",
       "    </tr>\n",
       "  </thead>\n",
       "  <tbody>\n",
       "    <tr>\n",
       "      <th>46</th>\n",
       "      <td>Mean travel time to work (minutes), workers ag...</td>\n",
       "      <td>26.8</td>\n",
       "    </tr>\n",
       "    <tr>\n",
       "      <th>47</th>\n",
       "      <td>Median household income (in 2015 dollars), 201...</td>\n",
       "      <td>$25,764</td>\n",
       "    </tr>\n",
       "    <tr>\n",
       "      <th>48</th>\n",
       "      <td>Per capita income in past 12 months (in 2015 d...</td>\n",
       "      <td>$15,038</td>\n",
       "    </tr>\n",
       "    <tr>\n",
       "      <th>49</th>\n",
       "      <td>Persons in poverty, percent</td>\n",
       "      <td>40.3%</td>\n",
       "    </tr>\n",
       "  </tbody>\n",
       "</table>\n",
       "</div>"
      ],
      "text/plain": [
       "                                                 Fact Detroit city, Michigan\n",
       "46  Mean travel time to work (minutes), workers ag...                   26.8\n",
       "47  Median household income (in 2015 dollars), 201...                $25,764\n",
       "48  Per capita income in past 12 months (in 2015 d...                $15,038\n",
       "49                        Persons in poverty, percent                  40.3%"
      ]
     },
     "execution_count": 188,
     "metadata": {},
     "output_type": "execute_result"
    }
   ],
   "source": [
    "d_salary=detroit_census2.drop(detroit_census2.index[:46])\n",
    "d_salary=d_salary.drop(d_salary.index[50:])\n",
    "d_salary.head(4)"
   ]
  },
  {
   "cell_type": "markdown",
   "metadata": {},
   "source": [
    "<h3 align='left'>\n",
    "IV. Looking at Portland, Oregon for Competitiveness Comparison\n",
    "</h3>"
   ]
  },
  {
   "cell_type": "markdown",
   "metadata": {},
   "source": [
    "In order to get a better understanding of Detroit's economic competitiveness, the demographics and cost of living of Portland, Oregon will be used for comparison. Portland is a valid economic comparison to Detroit as it has a similar population size. While Detroit has undergone unique economic challenges that have impacted both its population size and economic productivity, there isn't a similarly sized U.S. city that these factors also apply to; thus, population size is our best means of comparison."
   ]
  },
  {
   "cell_type": "markdown",
   "metadata": {},
   "source": [
    "**Population of Detroit Compared to Portland**"
   ]
  },
  {
   "cell_type": "code",
   "execution_count": 62,
   "metadata": {
    "collapsed": true
   },
   "outputs": [],
   "source": [
    "# portland census data\n",
    "url=(\"/Users/maggiewest/Projects/Portland_census.csv\")\n",
    "portland_census = pd.read_csv(url)\n",
    "portland_census2=portland_census.drop(\"Fact Note\", axis=1)\n",
    "portland_census2=portland_census2.drop(\"Value Note for Portland city, Oregon\", axis=1)"
   ]
  },
  {
   "cell_type": "code",
   "execution_count": 173,
   "metadata": {},
   "outputs": [
    {
     "data": {
      "text/html": [
       "<div>\n",
       "<style scoped>\n",
       "    .dataframe tbody tr th:only-of-type {\n",
       "        vertical-align: middle;\n",
       "    }\n",
       "\n",
       "    .dataframe tbody tr th {\n",
       "        vertical-align: top;\n",
       "    }\n",
       "\n",
       "    .dataframe thead th {\n",
       "        text-align: right;\n",
       "    }\n",
       "</style>\n",
       "<table border=\"1\" class=\"dataframe\">\n",
       "  <thead>\n",
       "    <tr style=\"text-align: right;\">\n",
       "      <th></th>\n",
       "      <th>Fact</th>\n",
       "      <th>Detroit city, Michigan</th>\n",
       "      <th>Portland city, Oregon</th>\n",
       "      <th>_merge</th>\n",
       "    </tr>\n",
       "  </thead>\n",
       "  <tbody>\n",
       "    <tr>\n",
       "      <th>0</th>\n",
       "      <td>Population estimates, July 1, 2016,  (V2016)</td>\n",
       "      <td>672,795</td>\n",
       "      <td>639,863</td>\n",
       "      <td>both</td>\n",
       "    </tr>\n",
       "  </tbody>\n",
       "</table>\n",
       "</div>"
      ],
      "text/plain": [
       "                                           Fact Detroit city, Michigan  \\\n",
       "0  Population estimates, July 1, 2016,  (V2016)                672,795   \n",
       "\n",
       "  Portland city, Oregon _merge  \n",
       "0               639,863   both  "
      ]
     },
     "execution_count": 173,
     "metadata": {},
     "output_type": "execute_result"
    }
   ],
   "source": [
    "# Merge the two datasets\n",
    "newest=pd.merge(detroit_census2, portland_census2, how='inner',\n",
    "                         left_on = \"Fact\", right_on = \"Fact\", indicator = True)\n",
    "population=newest.drop(newest.index[1:])\n",
    "population.head()"
   ]
  },
  {
   "cell_type": "markdown",
   "metadata": {},
   "source": [
    "**Education level of Portland**"
   ]
  },
  {
   "cell_type": "markdown",
   "metadata": {},
   "source": [
    "While 13.5% of Detroit's population (approximately 90,827 Detroit residents) have earned a Bachelor's Degree or higher degree of education, a whopping 47% (approximately 300,735 Portland residents) have earned a Bachelor's Degree or higher degree of education. "
   ]
  },
  {
   "cell_type": "code",
   "execution_count": 109,
   "metadata": {},
   "outputs": [
    {
     "data": {
      "text/html": [
       "<div>\n",
       "<style scoped>\n",
       "    .dataframe tbody tr th:only-of-type {\n",
       "        vertical-align: middle;\n",
       "    }\n",
       "\n",
       "    .dataframe tbody tr th {\n",
       "        vertical-align: top;\n",
       "    }\n",
       "\n",
       "    .dataframe thead th {\n",
       "        text-align: right;\n",
       "    }\n",
       "</style>\n",
       "<table border=\"1\" class=\"dataframe\">\n",
       "  <thead>\n",
       "    <tr style=\"text-align: right;\">\n",
       "      <th></th>\n",
       "      <th>Fact</th>\n",
       "      <th>Portland city, Oregon</th>\n",
       "    </tr>\n",
       "  </thead>\n",
       "  <tbody>\n",
       "    <tr>\n",
       "      <th>37</th>\n",
       "      <td>High school graduate or higher, percent of per...</td>\n",
       "      <td>91.6%</td>\n",
       "    </tr>\n",
       "    <tr>\n",
       "      <th>38</th>\n",
       "      <td>Bachelor's degree or higher, percent of person...</td>\n",
       "      <td>47.0%</td>\n",
       "    </tr>\n",
       "  </tbody>\n",
       "</table>\n",
       "</div>"
      ],
      "text/plain": [
       "                                                 Fact Portland city, Oregon\n",
       "37  High school graduate or higher, percent of per...                 91.6%\n",
       "38  Bachelor's degree or higher, percent of person...                 47.0%"
      ]
     },
     "execution_count": 109,
     "metadata": {},
     "output_type": "execute_result"
    }
   ],
   "source": [
    "p_education=portland_census2.drop(portland_census2.index[39:])\n",
    "p_education=p_education.drop(p_education.index[:37])\n",
    "p_education.head()"
   ]
  },
  {
   "cell_type": "markdown",
   "metadata": {},
   "source": [
    "**Cost of Living: Detroit vs. Portland** "
   ]
  },
  {
   "cell_type": "markdown",
   "metadata": {},
   "source": [
    "Housing costs and cost of rent in Portland are represented by the data below, collected from the US Census Bureau. "
   ]
  },
  {
   "cell_type": "code",
   "execution_count": 192,
   "metadata": {},
   "outputs": [
    {
     "data": {
      "text/html": [
       "<div>\n",
       "<style scoped>\n",
       "    .dataframe tbody tr th:only-of-type {\n",
       "        vertical-align: middle;\n",
       "    }\n",
       "\n",
       "    .dataframe tbody tr th {\n",
       "        vertical-align: top;\n",
       "    }\n",
       "\n",
       "    .dataframe thead th {\n",
       "        text-align: right;\n",
       "    }\n",
       "</style>\n",
       "<table border=\"1\" class=\"dataframe\">\n",
       "  <thead>\n",
       "    <tr style=\"text-align: right;\">\n",
       "      <th></th>\n",
       "      <th>Fact</th>\n",
       "      <th>Portland city, Oregon</th>\n",
       "    </tr>\n",
       "  </thead>\n",
       "  <tbody>\n",
       "    <tr>\n",
       "      <th>26</th>\n",
       "      <td>Housing units, April 1, 2010</td>\n",
       "      <td>265,439</td>\n",
       "    </tr>\n",
       "    <tr>\n",
       "      <th>27</th>\n",
       "      <td>Owner-occupied housing unit rate, 2012-2016</td>\n",
       "      <td>53.1%</td>\n",
       "    </tr>\n",
       "    <tr>\n",
       "      <th>28</th>\n",
       "      <td>Median value of owner-occupied housing units, ...</td>\n",
       "      <td>$319,400</td>\n",
       "    </tr>\n",
       "    <tr>\n",
       "      <th>29</th>\n",
       "      <td>Median selected monthly owner costs -with a mo...</td>\n",
       "      <td>$1,787</td>\n",
       "    </tr>\n",
       "    <tr>\n",
       "      <th>30</th>\n",
       "      <td>Median selected monthly owner costs -without a...</td>\n",
       "      <td>$602</td>\n",
       "    </tr>\n",
       "    <tr>\n",
       "      <th>31</th>\n",
       "      <td>Median gross rent, 2012-2016</td>\n",
       "      <td>$1,025</td>\n",
       "    </tr>\n",
       "  </tbody>\n",
       "</table>\n",
       "</div>"
      ],
      "text/plain": [
       "                                                 Fact Portland city, Oregon\n",
       "26                       Housing units, April 1, 2010               265,439\n",
       "27        Owner-occupied housing unit rate, 2012-2016                 53.1%\n",
       "28  Median value of owner-occupied housing units, ...              $319,400\n",
       "29  Median selected monthly owner costs -with a mo...                $1,787\n",
       "30  Median selected monthly owner costs -without a...                  $602\n",
       "31                       Median gross rent, 2012-2016                $1,025"
      ]
     },
     "execution_count": 192,
     "metadata": {},
     "output_type": "execute_result"
    }
   ],
   "source": [
    "p_housing=portland_census2.drop(portland_census2.index[:26])\n",
    "p_housing.head(6)"
   ]
  },
  {
   "cell_type": "code",
   "execution_count": 191,
   "metadata": {},
   "outputs": [
    {
     "data": {
      "text/html": [
       "<div>\n",
       "<style scoped>\n",
       "    .dataframe tbody tr th:only-of-type {\n",
       "        vertical-align: middle;\n",
       "    }\n",
       "\n",
       "    .dataframe tbody tr th {\n",
       "        vertical-align: top;\n",
       "    }\n",
       "\n",
       "    .dataframe thead th {\n",
       "        text-align: right;\n",
       "    }\n",
       "</style>\n",
       "<table border=\"1\" class=\"dataframe\">\n",
       "  <thead>\n",
       "    <tr style=\"text-align: right;\">\n",
       "      <th></th>\n",
       "      <th>Fact</th>\n",
       "      <th>Portland city, Oregon</th>\n",
       "    </tr>\n",
       "  </thead>\n",
       "  <tbody>\n",
       "    <tr>\n",
       "      <th>49</th>\n",
       "      <td>Mean travel time to work (minutes), workers ag...</td>\n",
       "      <td>25.6</td>\n",
       "    </tr>\n",
       "    <tr>\n",
       "      <th>50</th>\n",
       "      <td>Median household income (in 2016 dollars), 201...</td>\n",
       "      <td>$58,423</td>\n",
       "    </tr>\n",
       "    <tr>\n",
       "      <th>51</th>\n",
       "      <td>Per capita income in past 12 months (in 2016 d...</td>\n",
       "      <td>$34,778</td>\n",
       "    </tr>\n",
       "  </tbody>\n",
       "</table>\n",
       "</div>"
      ],
      "text/plain": [
       "                                                 Fact Portland city, Oregon\n",
       "49  Mean travel time to work (minutes), workers ag...                  25.6\n",
       "50  Median household income (in 2016 dollars), 201...               $58,423\n",
       "51  Per capita income in past 12 months (in 2016 d...               $34,778"
      ]
     },
     "execution_count": 191,
     "metadata": {},
     "output_type": "execute_result"
    }
   ],
   "source": [
    "p_salary=portland_census2.drop(portland_census2.index[:49])\n",
    "p_salary.head(3)"
   ]
  },
  {
   "cell_type": "markdown",
   "metadata": {},
   "source": [
    "The mean travel time to work is 25.6 minutes in Portland, compared to 26.8 in Detroit. Additionally, the median household income is higher in Portland at 58,423 dollars, where Detroit is 25,764 dollars. The per capita income is also higher in Portland, at 34,778 dollars while Detroit's sits at 15,038 dollars."
   ]
  },
  {
   "cell_type": "markdown",
   "metadata": {},
   "source": [
    "***"
   ]
  },
  {
   "cell_type": "markdown",
   "metadata": {},
   "source": [
    "<h3 align='left'>\n",
    "III. Conclusion\n",
    "</h3>"
   ]
  },
  {
   "cell_type": "markdown",
   "metadata": {},
   "source": [
    "Based on the data above, it is clear that while Detroit's productivity has rebounded since its bankrupcy in 2013 (in addition to its other financial crises over the years), it does not compare well along the lines of the education-level and income of its residents. "
   ]
  },
  {
   "cell_type": "markdown",
   "metadata": {
    "collapsed": true
   },
   "source": [
    "**Limitations of analysis** \n",
    "\n",
    "While the demographic and cost of living data did not look well on Detroit when compared to a similarly-populated city, it is possible that the definition of what consistitutes Detroit may have played a role in these numbers. The urban-suburban divide within the Greater Detroit metropolitan area is drawn along educational and socio-economic lines. Considering the mean travel time to work in Detroit is 26.8 minutes, it would make sense that much of the working population in the Greater Detroit area come from the suburbs to work in the city. The high poverty rates are likely found within the city itself, and the low rates of higher education (Bachelor's degree or higher) may exclude those who work in the city and do not live there (such as those who live in the wealthy suburbs such as the cities of Troy and Rochester, right outside of the Greater Detroit metropolitan area). Some information on the disparity in Metro Detroit and Greater Detroit's economic and educational development can be found [here](https://www.nap.edu/read/6038/chapter/4)."
   ]
  },
  {
   "cell_type": "markdown",
   "metadata": {},
   "source": [
    "***"
   ]
  }
 ],
 "metadata": {
  "kernelspec": {
   "display_name": "Python 3",
   "language": "python",
   "name": "python3"
  },
  "language_info": {
   "codemirror_mode": {
    "name": "ipython",
    "version": 3
   },
   "file_extension": ".py",
   "mimetype": "text/x-python",
   "name": "python",
   "nbconvert_exporter": "python",
   "pygments_lexer": "ipython3",
   "version": "3.6.1"
  }
 },
 "nbformat": 4,
 "nbformat_minor": 2
}
